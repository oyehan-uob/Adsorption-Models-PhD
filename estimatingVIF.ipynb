{
 "cells": [
  {
   "cell_type": "code",
   "execution_count": 1,
   "id": "239e1a01",
   "metadata": {},
   "outputs": [
    {
     "name": "stderr",
     "output_type": "stream",
     "text": [
      "C:\\Users\\Admin\\AppData\\Roaming\\Python\\Python39\\site-packages\\pandas\\core\\computation\\expressions.py:21: UserWarning: Pandas requires version '2.8.4' or newer of 'numexpr' (version '2.8.3' currently installed).\n",
      "  from pandas.core.computation.check import NUMEXPR_INSTALLED\n",
      "C:\\Users\\Admin\\AppData\\Roaming\\Python\\Python39\\site-packages\\pandas\\core\\arrays\\masked.py:60: UserWarning: Pandas requires version '1.3.6' or newer of 'bottleneck' (version '1.3.5' currently installed).\n",
      "  from pandas.core import (\n"
     ]
    },
    {
     "name": "stdout",
     "output_type": "stream",
     "text": [
      "Imports complete!\n"
     ]
    }
   ],
   "source": [
    "# Import basic libraries\n",
    "import math\n",
    "import pandas as pd\n",
    "import numpy as np\n",
    "import matplotlib.pyplot as plt\n",
    "from scipy import stats\n",
    "import seaborn as sns\n",
    "\n",
    "from statsmodels.stats.outliers_influence import variance_inflation_factor\n",
    "\n",
    "# import datawig\n",
    "# import missingno as msno\n",
    "\n",
    "from sklearn.metrics import r2_score, mean_squared_error, mean_absolute_error\n",
    "\n",
    "%matplotlib inline\n",
    "\n",
    "print('Imports complete!')"
   ]
  },
  {
   "cell_type": "code",
   "execution_count": 2,
   "id": "68202cac",
   "metadata": {},
   "outputs": [
    {
     "data": {
      "text/html": [
       "<div>\n",
       "<style scoped>\n",
       "    .dataframe tbody tr th:only-of-type {\n",
       "        vertical-align: middle;\n",
       "    }\n",
       "\n",
       "    .dataframe tbody tr th {\n",
       "        vertical-align: top;\n",
       "    }\n",
       "\n",
       "    .dataframe thead th {\n",
       "        text-align: right;\n",
       "    }\n",
       "</style>\n",
       "<table border=\"1\" class=\"dataframe\">\n",
       "  <thead>\n",
       "    <tr style=\"text-align: right;\">\n",
       "      <th></th>\n",
       "      <th>Time</th>\n",
       "      <th>Functional_group</th>\n",
       "      <th>Dose</th>\n",
       "      <th>Initial_conc</th>\n",
       "      <th>pH</th>\n",
       "      <th>Removal_eff</th>\n",
       "    </tr>\n",
       "  </thead>\n",
       "  <tbody>\n",
       "    <tr>\n",
       "      <th>0</th>\n",
       "      <td>60</td>\n",
       "      <td>MSN</td>\n",
       "      <td>0.5</td>\n",
       "      <td>20</td>\n",
       "      <td>3.15</td>\n",
       "      <td>16.173511</td>\n",
       "    </tr>\n",
       "    <tr>\n",
       "      <th>1</th>\n",
       "      <td>60</td>\n",
       "      <td>MSN</td>\n",
       "      <td>0.5</td>\n",
       "      <td>20</td>\n",
       "      <td>4.95</td>\n",
       "      <td>39.461475</td>\n",
       "    </tr>\n",
       "    <tr>\n",
       "      <th>2</th>\n",
       "      <td>60</td>\n",
       "      <td>MSN</td>\n",
       "      <td>0.5</td>\n",
       "      <td>20</td>\n",
       "      <td>7.56</td>\n",
       "      <td>68.610607</td>\n",
       "    </tr>\n",
       "  </tbody>\n",
       "</table>\n",
       "</div>"
      ],
      "text/plain": [
       "   Time Functional_group  Dose  Initial_conc    pH  Removal_eff\n",
       "0    60              MSN   0.5            20  3.15    16.173511\n",
       "1    60              MSN   0.5            20  4.95    39.461475\n",
       "2    60              MSN   0.5            20  7.56    68.610607"
      ]
     },
     "execution_count": 2,
     "metadata": {},
     "output_type": "execute_result"
    }
   ],
   "source": [
    "df_CV = pd.read_csv('msn_cv_adsorption.csv', index_col=None)\n",
    "\n",
    "df_CV.head(3)"
   ]
  },
  {
   "cell_type": "code",
   "execution_count": 11,
   "id": "0f885786",
   "metadata": {},
   "outputs": [
    {
     "data": {
      "text/html": [
       "<div>\n",
       "<style scoped>\n",
       "    .dataframe tbody tr th:only-of-type {\n",
       "        vertical-align: middle;\n",
       "    }\n",
       "\n",
       "    .dataframe tbody tr th {\n",
       "        vertical-align: top;\n",
       "    }\n",
       "\n",
       "    .dataframe thead th {\n",
       "        text-align: right;\n",
       "    }\n",
       "</style>\n",
       "<table border=\"1\" class=\"dataframe\">\n",
       "  <thead>\n",
       "    <tr style=\"text-align: right;\">\n",
       "      <th></th>\n",
       "      <th>Time</th>\n",
       "      <th>Functional_group</th>\n",
       "      <th>Dose</th>\n",
       "      <th>Initial_conc</th>\n",
       "      <th>pH</th>\n",
       "      <th>Removal_eff</th>\n",
       "    </tr>\n",
       "  </thead>\n",
       "  <tbody>\n",
       "    <tr>\n",
       "      <th>0</th>\n",
       "      <td>60</td>\n",
       "      <td>MSN</td>\n",
       "      <td>1.0</td>\n",
       "      <td>20</td>\n",
       "      <td>3.22</td>\n",
       "      <td>11.154369</td>\n",
       "    </tr>\n",
       "    <tr>\n",
       "      <th>1</th>\n",
       "      <td>60</td>\n",
       "      <td>MSN</td>\n",
       "      <td>1.0</td>\n",
       "      <td>20</td>\n",
       "      <td>4.99</td>\n",
       "      <td>2.798095</td>\n",
       "    </tr>\n",
       "    <tr>\n",
       "      <th>2</th>\n",
       "      <td>60</td>\n",
       "      <td>MSN</td>\n",
       "      <td>1.0</td>\n",
       "      <td>20</td>\n",
       "      <td>7.02</td>\n",
       "      <td>1.187120</td>\n",
       "    </tr>\n",
       "  </tbody>\n",
       "</table>\n",
       "</div>"
      ],
      "text/plain": [
       "   Time Functional_group  Dose  Initial_conc    pH  Removal_eff\n",
       "0    60              MSN   1.0            20  3.22    11.154369\n",
       "1    60              MSN   1.0            20  4.99     2.798095\n",
       "2    60              MSN   1.0            20  7.02     1.187120"
      ]
     },
     "execution_count": 11,
     "metadata": {},
     "output_type": "execute_result"
    }
   ],
   "source": [
    "df_MO = pd.read_csv('msn_mo_adsorption2.csv', index_col=None)\n",
    "\n",
    "df_MO.head(3)"
   ]
  },
  {
   "cell_type": "markdown",
   "id": "175150fa",
   "metadata": {},
   "source": [
    "## Handles categorical data"
   ]
  },
  {
   "cell_type": "code",
   "execution_count": 3,
   "id": "6f4b9334",
   "metadata": {},
   "outputs": [],
   "source": [
    "from sklearn.preprocessing import LabelEncoder\n",
    "\n",
    "\n",
    "def calculate_vif(df, output_var=None, include_output=False, categorical_vars=None):\n",
    "    \"\"\"\n",
    "    Calculate VIF for variables in the DataFrame, using LabelEncoder for categorical variables.\n",
    "    \n",
    "    Parameters:\n",
    "    - df: pandas DataFrame containing data\n",
    "    - output_var: str or None, name of the output variable column\n",
    "    - include_output: bool, whether to include the output variable in VIF calculation\n",
    "    - categorical_vars: list of str or None, names of categorical variable columns\n",
    "    \n",
    "    Returns:\n",
    "    - vif_df: DataFrame with variables and their VIF values\n",
    "    \"\"\"\n",
    "    if output_var and not include_output:\n",
    "        X = df.drop(columns=[output_var]).copy()\n",
    "    else:\n",
    "        X = df.copy()\n",
    "    \n",
    "    if categorical_vars:\n",
    "        le = LabelEncoder()\n",
    "        for col in categorical_vars:\n",
    "            X[col] = le.fit_transform(X[col].astype(str))\n",
    "    \n",
    "    vif_data = {\n",
    "        'Variable': X.columns,\n",
    "        'VIF': [variance_inflation_factor(X.values, i) for i in range(X.shape[1])]\n",
    "    }\n",
    "    \n",
    "    return pd.DataFrame(vif_data)\n"
   ]
  },
  {
   "cell_type": "code",
   "execution_count": 8,
   "id": "d6b2c240",
   "metadata": {},
   "outputs": [
    {
     "name": "stdout",
     "output_type": "stream",
     "text": [
      "<--------For CV dye-------->\n",
      "\n",
      "           Variable       VIF\n",
      "0              Time  3.969848\n",
      "1  Functional_group  2.346267\n",
      "2              Dose  2.748553\n",
      "3      Initial_conc  4.493250\n",
      "4                pH  5.993487\n"
     ]
    }
   ],
   "source": [
    "vif_result = calculate_vif(df_CV, output_var='Removal_eff', include_output=False, categorical_vars=['Functional_group'])\n",
    "print(\"<--------For CV dye-------->\\n\")\n",
    "print(vif_result)\n"
   ]
  },
  {
   "cell_type": "code",
   "execution_count": 12,
   "id": "2e5705e7",
   "metadata": {},
   "outputs": [
    {
     "name": "stdout",
     "output_type": "stream",
     "text": [
      "<--------For MO dye-------->\n",
      "\n",
      "           Variable       VIF\n",
      "0              Time  4.355599\n",
      "1  Functional_group  2.388328\n",
      "2              Dose  3.313633\n",
      "3      Initial_conc  3.751026\n",
      "4                pH  7.789567\n"
     ]
    }
   ],
   "source": [
    "vif_result = calculate_vif(df_MO, output_var='Removal_eff', include_output=False, categorical_vars=['Functional_group'])\n",
    "print(\"<--------For MO dye-------->\\n\")\n",
    "print(vif_result)\n"
   ]
  },
  {
   "cell_type": "code",
   "execution_count": null,
   "id": "fc3fb924",
   "metadata": {},
   "outputs": [],
   "source": []
  }
 ],
 "metadata": {
  "kernelspec": {
   "display_name": "Python 3 (ipykernel)",
   "language": "python",
   "name": "python3"
  },
  "language_info": {
   "codemirror_mode": {
    "name": "ipython",
    "version": 3
   },
   "file_extension": ".py",
   "mimetype": "text/x-python",
   "name": "python",
   "nbconvert_exporter": "python",
   "pygments_lexer": "ipython3",
   "version": "3.9.13"
  }
 },
 "nbformat": 4,
 "nbformat_minor": 5
}
